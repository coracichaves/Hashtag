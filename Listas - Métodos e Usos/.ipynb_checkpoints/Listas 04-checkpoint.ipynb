{
 "cells": [
  {
   "cell_type": "markdown",
   "metadata": {},
   "source": [
    "# Adicionar e Remover itens de uma lista\n",
    "\n",
    "Adicionar:<br>\n",
    "lista.append(item)\n",
    "\n",
    "Remover:<br>\n",
    "item_removido = lista.pop(indice)<br>\n",
    "lista.remove(item)\n",
    "\n",
    "Digamos que você está construindo o controle de produtos da Apple.<br>\n",
    "E a Apple lançou o IPhone 11 e irá tirar dos seus estoques o IPhone X"
   ]
  },
  {
   "cell_type": "code",
   "execution_count": 8,
   "metadata": {},
   "outputs": [
    {
     "name": "stdout",
     "output_type": "stream",
     "text": [
      "['apple tv', 'mac', 'iphone x', 'IPad', 'apple watch', 'mac book', 'airpods', 'iphone 11']\n",
      "['apple tv', 'mac', 'IPad', 'apple watch', 'mac book', 'airpods', 'iphone 11']\n",
      "['apple tv', 'mac', 'apple watch', 'mac book', 'airpods', 'iphone 11']\n",
      "['apple tv', 'mac', 'mac book', 'airpods', 'iphone 11']\n",
      "Removemos o apple watch da lista\n",
      "iphonex não existe na lista de produtos\n"
     ]
    }
   ],
   "source": [
    "produtos = ['apple tv', 'mac', 'iphone x', 'IPad', 'apple watch', 'mac book', 'airpods']\n",
    "\n",
    "#Trocar\n",
    "#produtos[2] = 'iphone 11'\n",
    "#print(produtos)\n",
    "\n",
    "#Adicionar\n",
    "produtos.append('iphone 11')\n",
    "print(produtos)\n",
    "\n",
    "#Remover\n",
    "produtos.remove('iphone x')\n",
    "print(produtos)\n",
    "\n",
    "#Remover através de index. Você pode armazenar em uma variavel\n",
    "produtos.pop(2)\n",
    "print(produtos)\n",
    "\n",
    "#exemplo\n",
    "item_removido = produtos.pop(2)\n",
    "print(produtos)\n",
    "print('Removemos o {} da lista'.format(item_removido))\n",
    "\n",
    "#Quando escrevemos um nome errado\n",
    "produto_remove = 'iphonex'\n",
    "if produto_remove in produtos:\n",
    "    produtos.remove('iphonex')\n",
    "else:\n",
    "    print('{} não existe na lista de produtos'.format(produto_remove))"
   ]
  },
  {
   "cell_type": "markdown",
   "metadata": {},
   "source": [
    "## Existem 2 formas de tratar o erro:\n",
    "\n",
    "1. Criar um if para evitar que ele aconteça\n",
    "\n",
    "2. Esperar que ele possa acontecer e tratar caso o erro aconteça com:"
   ]
  },
  {
   "cell_type": "raw",
   "metadata": {},
   "source": [
    "try:\n",
    "    tentar fazer\n",
    "except:\n",
    "    caso dê errado"
   ]
  },
  {
   "cell_type": "code",
   "execution_count": 14,
   "metadata": {},
   "outputs": [
    {
     "name": "stdout",
     "output_type": "stream",
     "text": [
      "iphonex não existe na lista de produtos\n"
     ]
    }
   ],
   "source": [
    "try:\n",
    "    produtos.remove('iphone 11')\n",
    "    print(produtos)\n",
    "except:\n",
    "   print('iphonex não existe na lista de produtos') "
   ]
  },
  {
   "cell_type": "code",
   "execution_count": 16,
   "metadata": {},
   "outputs": [],
   "source": [
    "try:\n",
    "    produtos.remove('iphonex')\n",
    "    print(produtos)\n",
    "except:\n",
    "   pass\n",
    "#Com o pass ele não traz mensagem algum."
   ]
  },
  {
   "cell_type": "code",
   "execution_count": null,
   "metadata": {},
   "outputs": [],
   "source": []
  }
 ],
 "metadata": {
  "kernelspec": {
   "display_name": "Python 3 (ipykernel)",
   "language": "python",
   "name": "python3"
  },
  "language_info": {
   "codemirror_mode": {
    "name": "ipython",
    "version": 3
   },
   "file_extension": ".py",
   "mimetype": "text/x-python",
   "name": "python",
   "nbconvert_exporter": "python",
   "pygments_lexer": "ipython3",
   "version": "3.10.9"
  }
 },
 "nbformat": 4,
 "nbformat_minor": 4
}
