{
 "cells": [
  {
   "cell_type": "markdown",
   "id": "4e5fa91b",
   "metadata": {},
   "source": [
    "### Forma Básica"
   ]
  },
  {
   "cell_type": "code",
   "execution_count": 2,
   "id": "fba45682",
   "metadata": {},
   "outputs": [
    {
     "name": "stdout",
     "output_type": "stream",
     "text": [
      "25\n",
      "29\n"
     ]
    }
   ],
   "source": [
    "precos = \"Jan: 25, Fev: 27, Mar: 29\"\n",
    "preco_janeiro = precos[5:7]\n",
    "print(preco_janeiro)\n",
    "\n",
    "preco_marco = precos[-2:]\n",
    "print(preco_marco)"
   ]
  },
  {
   "cell_type": "markdown",
   "id": "afe5dc17",
   "metadata": {},
   "source": [
    "### Posição Inicial e Final"
   ]
  },
  {
   "cell_type": "code",
   "execution_count": 4,
   "id": "c3488405",
   "metadata": {},
   "outputs": [
    {
     "name": "stdout",
     "output_type": "stream",
     "text": [
      "27\n",
      "27\n"
     ]
    }
   ],
   "source": [
    "preco_fev = precos[14:16]\n",
    "print(preco_fev)\n",
    "\n",
    "preco_fev2 = precos[-11:-9]\n",
    "print(preco_fev2)"
   ]
  },
  {
   "cell_type": "markdown",
   "id": "bca6dfd4",
   "metadata": {},
   "source": [
    "### Posição Inicial e Final com Step"
   ]
  },
  {
   "cell_type": "code",
   "execution_count": 14,
   "id": "981224c2",
   "metadata": {},
   "outputs": [
    {
     "name": "stdout",
     "output_type": "stream",
     "text": [
      "9.7,4.3.2,1,5,4.3.2.\n"
     ]
    }
   ],
   "source": [
    "codigo = \"1.2.3.4,5,1,2.3.4,7.9\"\n",
    "num_codigos = codigo[-1::-1]\n",
    "print(num_codigos)"
   ]
  },
  {
   "cell_type": "code",
   "execution_count": null,
   "id": "e134a9b3",
   "metadata": {},
   "outputs": [],
   "source": []
  }
 ],
 "metadata": {
  "kernelspec": {
   "display_name": "Python 3 (ipykernel)",
   "language": "python",
   "name": "python3"
  },
  "language_info": {
   "codemirror_mode": {
    "name": "ipython",
    "version": 3
   },
   "file_extension": ".py",
   "mimetype": "text/x-python",
   "name": "python",
   "nbconvert_exporter": "python",
   "pygments_lexer": "ipython3",
   "version": "3.9.13"
  }
 },
 "nbformat": 4,
 "nbformat_minor": 5
}
