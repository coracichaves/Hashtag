{
 "cells": [
  {
   "cell_type": "code",
   "execution_count": 14,
   "id": "bbb6c823",
   "metadata": {},
   "outputs": [],
   "source": [
    "from selenium import webdriver\n",
    "from selenium.webdriver.chrome.service import Service\n",
    "from webdriver_manager.chrome import ChromeDriverManager\n",
    "\n",
    "servico = Service(ChromeDriverManager().install())\n",
    "navegador = webdriver.Chrome(service=servico)"
   ]
  },
  {
   "cell_type": "code",
   "execution_count": 17,
   "id": "3af2e2cd",
   "metadata": {},
   "outputs": [],
   "source": [
    "# Pagina Web\n",
    "#navegador.get(\"https://google.com/\")\n",
    "\n",
    "# Arquivo Html\n",
    "#navegador.get(r\"C:\\Users\\AB1397109\\Documents\\GitHub\\Hashtag\\Módulo 25 de 51 Integração Python - Automação Web (Web-Scraping com Selenium)\\Arquivos - Aula 3\\teste.html\")\n",
    "\n",
    "# Pagina Hashtag\n",
    "navegador.get(r\"C:\\Users\\AB1397109\\Documents\\GitHub\\Hashtag\\Módulo 25 de 51 Integração Python - Automação Web (Web-Scraping com Selenium)\\Arquivos - Aula 3\\Pagina Hashtag.html\")"
   ]
  },
  {
   "cell_type": "code",
   "execution_count": null,
   "id": "5bf50e65",
   "metadata": {},
   "outputs": [],
   "source": []
  }
 ],
 "metadata": {
  "kernelspec": {
   "display_name": "Python 3 (ipykernel)",
   "language": "python",
   "name": "python3"
  },
  "language_info": {
   "codemirror_mode": {
    "name": "ipython",
    "version": 3
   },
   "file_extension": ".py",
   "mimetype": "text/x-python",
   "name": "python",
   "nbconvert_exporter": "python",
   "pygments_lexer": "ipython3",
   "version": "3.10.9"
  }
 },
 "nbformat": 4,
 "nbformat_minor": 5
}
